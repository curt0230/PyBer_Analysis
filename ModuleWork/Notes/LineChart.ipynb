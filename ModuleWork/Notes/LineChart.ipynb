{
 "cells": [
  {
   "cell_type": "code",
   "execution_count": null,
   "id": "e9df32e9",
   "metadata": {},
   "outputs": [],
   "source": [
    "# Set back end processor for MATLAB\n",
    "%matplotlib inline"
   ]
  },
  {
   "cell_type": "code",
   "execution_count": null,
   "id": "07c25609",
   "metadata": {},
   "outputs": [],
   "source": [
    "# Import dependencies and check matplotlib version\n",
    "import matplotlib.pyplot as plt"
   ]
  },
  {
   "cell_type": "code",
   "execution_count": null,
   "id": "6051348e",
   "metadata": {},
   "outputs": [],
   "source": [
    "# Set the x-axis to a list of strings for each month.\n",
    "x_axis = [\"Jan\", \"Feb\", \"Mar\", \"April\", \"May\", \"June\", \"July\", \"Aug\", \"Sept\", \"Oct\", \"Nov\", \"Dec\"]\n",
    "\n",
    "# Set the y-axis to a list of floats as the total fare in US dollars accumulated for each month.\n",
    "y_axis = [10.02, 23.24, 39.20, 35.42, 32.34, 27.04, 43.82, 10.56, 11.85, 27.90, 20.71, 20.09]"
   ]
  },
  {
   "cell_type": "code",
   "execution_count": null,
   "id": "cdcad041",
   "metadata": {},
   "outputs": [],
   "source": [
    "# Use pyplot mod for plotting\n",
    "plt.plot(x_axis,y_axis)"
   ]
  },
  {
   "cell_type": "code",
   "execution_count": null,
   "id": "746b1ed3",
   "metadata": {},
   "outputs": [],
   "source": [
    "# Create the plot with ax.plt()\n",
    "# fig, ax are variables\n",
    "# plt.subplots() returns tuple containing figure and axes\n",
    "\n",
    "# This line unpacks figure and axes tuples and applies them to variables fig and ax\n",
    "fig, ax = plt.subplots()\n",
    "\n",
    "# This line plots the data from the x and y axes declared above\n",
    "ax.plot(x_axis, y_axis)"
   ]
  },
  {
   "cell_type": "code",
   "execution_count": null,
   "id": "a1bd12eb",
   "metadata": {},
   "outputs": [],
   "source": [
    "# This cell does the same as above but has broken out setting the variables, \n",
    "\n",
    "# Create the plot with ax.plt()\n",
    "# By itself this code returns an empty chart\n",
    "fig = plt.figure()\n",
    "ax = fig.add_subplot()\n",
    "\n",
    "# This line plots the data from the x and y axes declared above\n",
    "ax.plot(x_axis, y_axis)"
   ]
  },
  {
   "cell_type": "code",
   "execution_count": null,
   "id": "c2ed54a7",
   "metadata": {},
   "outputs": [],
   "source": [
    "# Create the plot with ax.plt()\n",
    "# does the same thing as plt.plot(x_axis, y_axis) but uses the OO interface\n",
    "ax = plt.axes()\n",
    "ax.plot(x_axis, y_axis)"
   ]
  },
  {
   "cell_type": "code",
   "execution_count": null,
   "id": "57bf8b2c",
   "metadata": {},
   "outputs": [],
   "source": [
    "# Create the plot.\n",
    "plt.plot(x_axis, y_axis)\n",
    "plt.show() # Only use this function one time per session - don't re-run this cell without restarting the kernel!"
   ]
  },
  {
   "cell_type": "code",
   "execution_count": null,
   "id": "2068ccf9",
   "metadata": {},
   "outputs": [],
   "source": [
    "# using MATLAB:\n",
    "# create the plot and add a label for the legend \n",
    "plt.plot(x_axis, y_axis, marker=\"*\", color=\"blue\", linewidth=2, label = \"Boston\")\n",
    "\n",
    "# create labels for the x, y axes\n",
    "plt.xlabel(\"Date\")\n",
    "plt.ylabel(\"Fare ($)\")\n",
    "\n",
    "#Set the y limit between 0 and 45\n",
    "plt.ylim(0,45)\n",
    "\n",
    "#Create a title\n",
    "plt.title(\"PyBer Fare by Month\")\n",
    "\n",
    "#Add the legend\n",
    "plt.legend()"
   ]
  },
  {
   "cell_type": "code",
   "execution_count": null,
   "id": "08d2e853",
   "metadata": {},
   "outputs": [],
   "source": [
    "# using OO:\n",
    "ax = plt.axes()\n",
    "\n",
    "# create the plot and add a label for the legend \n",
    "# plt.plot(x_axis, y_axis, marker=\"*\", color=\"blue\", linewidth=2, label = \"Boston\")\n",
    "ax.plot(x_axis, y_axis, color=\"green\", marker=\"D\", linewidth=2, label='Boston')\n",
    "# plt.show()\n",
    "\n",
    "# create labels for the x, y axes\n",
    "# plt.xlabel(\"Date\")\n",
    "# plt.ylabel(\"Fare ($)\")\n",
    "ax.set_xlabel('Date')\n",
    "ax.set_ylabel('Fare ($)')\n",
    "\n",
    "#Set the y limit between 0 and 45\n",
    "# plt.ylim(0,45)\n",
    "ax.set_ylim(0,45)\n",
    "\n",
    "#Create a title\n",
    "# plt.title(\"PyBer Fare by Month\")\n",
    "ax.set_title(\"PyBer Fare by Month\")\n",
    "\n",
    "#Add a grid\n",
    "ax.grid(visible=True, axis=\"both\")\n",
    "\n",
    "#Add the legend\n",
    "# plt.legend()\n",
    "ax.legend()\n",
    "# plt.show()"
   ]
  },
  {
   "cell_type": "code",
   "execution_count": null,
   "id": "60e8639d",
   "metadata": {},
   "outputs": [],
   "source": [
    "help(ax.plot)"
   ]
  },
  {
   "cell_type": "code",
   "execution_count": null,
   "id": "aaeb94bb",
   "metadata": {},
   "outputs": [],
   "source": []
  }
 ],
 "metadata": {
  "kernelspec": {
   "display_name": "PythonData",
   "language": "python",
   "name": "pythondata"
  },
  "language_info": {
   "codemirror_mode": {
    "name": "ipython",
    "version": 3
   },
   "file_extension": ".py",
   "mimetype": "text/x-python",
   "name": "python",
   "nbconvert_exporter": "python",
   "pygments_lexer": "ipython3",
   "version": "3.9.7"
  }
 },
 "nbformat": 4,
 "nbformat_minor": 5
}
