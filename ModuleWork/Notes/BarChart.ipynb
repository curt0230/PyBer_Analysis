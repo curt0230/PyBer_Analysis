{
 "cells": [
  {
   "cell_type": "code",
   "execution_count": 1,
   "id": "453b475b",
   "metadata": {},
   "outputs": [],
   "source": [
    "# Set back end processor for MATLAB\n",
    "%matplotlib inline"
   ]
  },
  {
   "cell_type": "code",
   "execution_count": 2,
   "id": "16cdaf5e",
   "metadata": {},
   "outputs": [],
   "source": [
    "# Import dependencies and check matplotlib version\n",
    "import matplotlib.pyplot as plt"
   ]
  },
  {
   "cell_type": "code",
   "execution_count": 3,
   "id": "8660d36a",
   "metadata": {},
   "outputs": [],
   "source": [
    "# Set the x-axis to a list of strings for each month.\n",
    "x_axis = [\"Jan\", \"Feb\", \"Mar\", \"April\", \"May\", \"June\", \"July\", \"Aug\", \"Sept\", \"Oct\", \"Nov\", \"Dec\"]\n",
    "\n",
    "# Set the y-axis to a list of floats as the total fare in US dollars accumulated for each month.\n",
    "y_axis = [10.02, 23.24, 39.20, 35.42, 32.34, 27.04, 43.82, 10.56, 11.85, 27.90, 20.71, 20.09]\n"
   ]
  },
  {
   "cell_type": "code",
   "execution_count": null,
   "id": "69b16ab8",
   "metadata": {},
   "outputs": [],
   "source": [
    "# Create vertical bar chart\n",
    "plt.bar(x_axis, y_axis)"
   ]
  },
  {
   "cell_type": "code",
   "execution_count": null,
   "id": "a09b70cd",
   "metadata": {},
   "outputs": [],
   "source": [
    "plt.bar(x_axis, y_axis, color=\"green\", label=\"Boston\")\n",
    "\n",
    "#Create x and y axis labels\n",
    "plt.xlabel(\"Date\")\n",
    "plt.ylabel(\"Fare ($)\")\n",
    "\n",
    "#Create title\n",
    "plt.title(\"PyBer Fare by Month\")\n",
    "\n",
    "#Add legend\n",
    "plt.legend()"
   ]
  },
  {
   "cell_type": "code",
   "execution_count": null,
   "id": "1aa0b87b",
   "metadata": {},
   "outputs": [],
   "source": [
    "#Create horizontal bar chart\n",
    "plt.barh(x_axis, y_axis)\n",
    "\n",
    "#uh oh, y axis in wrong order"
   ]
  },
  {
   "cell_type": "code",
   "execution_count": null,
   "id": "2b6924ee",
   "metadata": {},
   "outputs": [],
   "source": [
    "#Switch axes\n",
    "plt.barh(y_axis,x_axis)\n",
    "\n",
    "#looks terrible,hard to read"
   ]
  },
  {
   "cell_type": "code",
   "execution_count": 4,
   "id": "f1218783",
   "metadata": {},
   "outputs": [
    {
     "data": {
      "image/png": "[encoded data removed]",
      "text/plain": [
       "<Figure size 432x288 with 1 Axes>"
      ]
     },
     "metadata": {
      "needs_background": "light"
     },
     "output_type": "display_data"
    }
   ],
   "source": [
    "#create horizontal bar chart and format with MATLAB\n",
    "plt.barh(x_axis, y_axis, color=\"magenta\", label=\"Boston\")\n",
    "\n",
    "#reverse the order of the y axis\n",
    "plt.gca().invert_yaxis()\n",
    "\n",
    "#create x, y axis labels\n",
    "plt.xlabel(\"Date\")\n",
    "plt.ylabel(\"Fare ($)\")\n",
    "\n",
    "\n",
    "#add title\n",
    "plt.title(\"PyBer Fare by Month\")\n",
    "\n",
    "#Add the legend\n",
    "plt.legend()\n",
    "plt.show()"
   ]
  },
  {
   "cell_type": "code",
   "execution_count": null,
   "id": "b72a4cdc",
   "metadata": {},
   "outputs": [],
   "source": [
    "#create bar charts using OO method\n",
    "fig, ax = plt.subplots()\n",
    "ax.bar(x_axis, y_axis)"
   ]
  },
  {
   "cell_type": "code",
   "execution_count": null,
   "id": "42a83bdf",
   "metadata": {},
   "outputs": [],
   "source": [
    "#create horizontal bar using oo method\n",
    "fig, ax = plt.subplots()\n",
    "ax.barh(x_axis, y_axis)"
   ]
  },
  {
   "cell_type": "code",
   "execution_count": null,
   "id": "f2b1eb22",
   "metadata": {},
   "outputs": [],
   "source": [
    "#switch axes using oo method\n",
    "fig, ax = plt.subplots()\n",
    "ax.barh(y_axis,x_axis)"
   ]
  },
  {
   "cell_type": "code",
   "execution_count": null,
   "id": "6b30f992",
   "metadata": {},
   "outputs": [],
   "source": [
    "#create horizontal bar using oo method\n",
    "fig, ax = plt.subplots()\n",
    "ax.barh(x_axis, y_axis, color=\"cyan\",label=\"Chicago\")\n",
    "\n",
    "# create labels for the x, y axes\n",
    "ax.set_xlabel('Date')\n",
    "ax.set_ylabel('Fare ($)')\n",
    "\n",
    "#invert y axis\n",
    "ax.invert_yaxis()\n",
    "\n",
    "#Create a title\n",
    "ax.set_title(\"PyBer Fare by Month\")\n",
    "\n",
    "#add legend\n",
    "ax.legend()\n"
   ]
  },
  {
   "cell_type": "code",
   "execution_count": null,
   "id": "6e1dab54",
   "metadata": {},
   "outputs": [],
   "source": []
  }
 ],
 "metadata": {
  "kernelspec": {
   "display_name": "PythonData",
   "language": "python",
   "name": "pythondata"
  },
  "language_info": {
   "codemirror_mode": {
    "name": "ipython",
    "version": 3
   },
   "file_extension": ".py",
   "mimetype": "text/x-python",
   "name": "python",
   "nbconvert_exporter": "python",
   "pygments_lexer": "ipython3",
   "version": "3.9.7"
  }
 },
 "nbformat": 4,
 "nbformat_minor": 5
}
